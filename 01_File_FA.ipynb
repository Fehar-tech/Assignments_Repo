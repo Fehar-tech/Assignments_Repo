{
 "cells": [
  {
   "cell_type": "markdown",
   "metadata": {},
   "source": [
    "# Participant Details\n",
    "\n",
    "Title=\"Mr.\"\n",
    "\n",
    "Name=\"Fehar Ahmed\"\n",
    "\n",
    "Email=\"fehar.6060@gmail.com\"\n",
    "\n",
    "Phone=\"+923107179182\"\n",
    "\n",
    "I hope you are well and having a good day today.\n"
   ]
  }
 ],
 "metadata": {
  "language_info": {
   "name": "python"
  }
 },
 "nbformat": 4,
 "nbformat_minor": 2
}
